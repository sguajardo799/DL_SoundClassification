{
 "cells": [
  {
   "cell_type": "code",
   "execution_count": 1,
   "id": "4262557c-e1ac-41d0-b7dc-269b727d9db5",
   "metadata": {},
   "outputs": [],
   "source": [
    "import os\n",
    "import matplotlib.pyplot as plt\n",
    "import numpy as np\n",
    "import pandas as pd\n",
    "\n",
    "import torch\n",
    "from torch.utils.data import DataLoader, random_split, Subset\n",
    "from torch import nn\n",
    "\n",
    "import torchvision.transforms.functional as F\n",
    "from torchaudio import load\n",
    "from torchaudio.transforms import MelSpectrogram, Spectrogram\n",
    "\n",
    "from CNNs import CNN, CNN_2channel, CNN_horizontal\n",
    "#from data_dir.directivityDataset import DirectivityDataset\n",
    "from Directivity.directivityDataset import DirectivityDataset"
   ]
  },
  {
   "cell_type": "code",
   "execution_count": 2,
   "id": "a0887cc5-5605-4657-a46f-eb02882d26e1",
   "metadata": {},
   "outputs": [
    {
     "data": {
      "text/html": [
       "<div>\n",
       "<style scoped>\n",
       "    .dataframe tbody tr th:only-of-type {\n",
       "        vertical-align: middle;\n",
       "    }\n",
       "\n",
       "    .dataframe tbody tr th {\n",
       "        vertical-align: top;\n",
       "    }\n",
       "\n",
       "    .dataframe thead th {\n",
       "        text-align: right;\n",
       "    }\n",
       "</style>\n",
       "<table border=\"1\" class=\"dataframe\">\n",
       "  <thead>\n",
       "    <tr style=\"text-align: right;\">\n",
       "      <th></th>\n",
       "      <th>Unnamed: 0</th>\n",
       "      <th>audio_filename</th>\n",
       "      <th>class</th>\n",
       "      <th>event x (m)</th>\n",
       "      <th>event y (m)</th>\n",
       "      <th>event z (m)</th>\n",
       "      <th>event orientation (x)</th>\n",
       "      <th>event orientation (y)</th>\n",
       "      <th>event orientation (z)</th>\n",
       "      <th>listener (x)</th>\n",
       "      <th>...</th>\n",
       "      <th>distance (m)</th>\n",
       "      <th>theta</th>\n",
       "      <th>l_0</th>\n",
       "      <th>l_1</th>\n",
       "      <th>l_2</th>\n",
       "      <th>l_3</th>\n",
       "      <th>l_4</th>\n",
       "      <th>l_5</th>\n",
       "      <th>l_6</th>\n",
       "      <th>l_7</th>\n",
       "    </tr>\n",
       "  </thead>\n",
       "  <tbody>\n",
       "    <tr>\n",
       "      <th>0</th>\n",
       "      <td>0</td>\n",
       "      <td>directivityEval00001.wav</td>\n",
       "      <td>Speech</td>\n",
       "      <td>7.8</td>\n",
       "      <td>1.8</td>\n",
       "      <td>-5.0</td>\n",
       "      <td>-1</td>\n",
       "      <td>0</td>\n",
       "      <td>0</td>\n",
       "      <td>5</td>\n",
       "      <td>...</td>\n",
       "      <td>2.8</td>\n",
       "      <td>0</td>\n",
       "      <td>0</td>\n",
       "      <td>0</td>\n",
       "      <td>0</td>\n",
       "      <td>0</td>\n",
       "      <td>0</td>\n",
       "      <td>0</td>\n",
       "      <td>0</td>\n",
       "      <td>1</td>\n",
       "    </tr>\n",
       "    <tr>\n",
       "      <th>1</th>\n",
       "      <td>1</td>\n",
       "      <td>directivityEval00002.wav</td>\n",
       "      <td>Speech</td>\n",
       "      <td>5.0</td>\n",
       "      <td>1.8</td>\n",
       "      <td>-7.7</td>\n",
       "      <td>0</td>\n",
       "      <td>0</td>\n",
       "      <td>-1</td>\n",
       "      <td>5</td>\n",
       "      <td>...</td>\n",
       "      <td>2.7</td>\n",
       "      <td>-90</td>\n",
       "      <td>0</td>\n",
       "      <td>1</td>\n",
       "      <td>0</td>\n",
       "      <td>0</td>\n",
       "      <td>0</td>\n",
       "      <td>0</td>\n",
       "      <td>0</td>\n",
       "      <td>0</td>\n",
       "    </tr>\n",
       "    <tr>\n",
       "      <th>2</th>\n",
       "      <td>2</td>\n",
       "      <td>directivityEval00003.wav</td>\n",
       "      <td>Speech</td>\n",
       "      <td>7.3</td>\n",
       "      <td>1.8</td>\n",
       "      <td>-5.0</td>\n",
       "      <td>1</td>\n",
       "      <td>0</td>\n",
       "      <td>0</td>\n",
       "      <td>5</td>\n",
       "      <td>...</td>\n",
       "      <td>2.3</td>\n",
       "      <td>0</td>\n",
       "      <td>0</td>\n",
       "      <td>0</td>\n",
       "      <td>0</td>\n",
       "      <td>0</td>\n",
       "      <td>0</td>\n",
       "      <td>0</td>\n",
       "      <td>1</td>\n",
       "      <td>0</td>\n",
       "    </tr>\n",
       "    <tr>\n",
       "      <th>3</th>\n",
       "      <td>3</td>\n",
       "      <td>directivityEval00004.wav</td>\n",
       "      <td>Speech</td>\n",
       "      <td>8.1</td>\n",
       "      <td>1.8</td>\n",
       "      <td>-5.0</td>\n",
       "      <td>-1</td>\n",
       "      <td>0</td>\n",
       "      <td>0</td>\n",
       "      <td>5</td>\n",
       "      <td>...</td>\n",
       "      <td>3.1</td>\n",
       "      <td>0</td>\n",
       "      <td>0</td>\n",
       "      <td>0</td>\n",
       "      <td>0</td>\n",
       "      <td>0</td>\n",
       "      <td>0</td>\n",
       "      <td>0</td>\n",
       "      <td>0</td>\n",
       "      <td>1</td>\n",
       "    </tr>\n",
       "    <tr>\n",
       "      <th>4</th>\n",
       "      <td>4</td>\n",
       "      <td>directivityEval00005.wav</td>\n",
       "      <td>Speech</td>\n",
       "      <td>2.9</td>\n",
       "      <td>1.8</td>\n",
       "      <td>-5.0</td>\n",
       "      <td>1</td>\n",
       "      <td>0</td>\n",
       "      <td>0</td>\n",
       "      <td>5</td>\n",
       "      <td>...</td>\n",
       "      <td>2.1</td>\n",
       "      <td>180</td>\n",
       "      <td>0</td>\n",
       "      <td>0</td>\n",
       "      <td>1</td>\n",
       "      <td>0</td>\n",
       "      <td>0</td>\n",
       "      <td>0</td>\n",
       "      <td>0</td>\n",
       "      <td>0</td>\n",
       "    </tr>\n",
       "  </tbody>\n",
       "</table>\n",
       "<p>5 rows × 25 columns</p>\n",
       "</div>"
      ],
      "text/plain": [
       "   Unnamed: 0            audio_filename   class  event x (m)  event y (m)  \\\n",
       "0           0  directivityEval00001.wav  Speech          7.8          1.8   \n",
       "1           1  directivityEval00002.wav  Speech          5.0          1.8   \n",
       "2           2  directivityEval00003.wav  Speech          7.3          1.8   \n",
       "3           3  directivityEval00004.wav  Speech          8.1          1.8   \n",
       "4           4  directivityEval00005.wav  Speech          2.9          1.8   \n",
       "\n",
       "   event z (m)  event orientation (x)  event orientation (y)  \\\n",
       "0         -5.0                     -1                      0   \n",
       "1         -7.7                      0                      0   \n",
       "2         -5.0                      1                      0   \n",
       "3         -5.0                     -1                      0   \n",
       "4         -5.0                      1                      0   \n",
       "\n",
       "   event orientation (z)  listener (x)  ...  distance (m)  theta  l_0  l_1  \\\n",
       "0                      0             5  ...           2.8      0    0    0   \n",
       "1                     -1             5  ...           2.7    -90    0    1   \n",
       "2                      0             5  ...           2.3      0    0    0   \n",
       "3                      0             5  ...           3.1      0    0    0   \n",
       "4                      0             5  ...           2.1    180    0    0   \n",
       "\n",
       "   l_2  l_3  l_4  l_5  l_6  l_7  \n",
       "0    0    0    0    0    0    1  \n",
       "1    0    0    0    0    0    0  \n",
       "2    0    0    0    0    1    0  \n",
       "3    0    0    0    0    0    1  \n",
       "4    1    0    0    0    0    0  \n",
       "\n",
       "[5 rows x 25 columns]"
      ]
     },
     "execution_count": 2,
     "metadata": {},
     "output_type": "execute_result"
    }
   ],
   "source": [
    "#DATA_DIR = os.getcwd()+'/data_dir/'\n",
    "#DIRECTIVITY_ANNOTATION = os.path.join(DATA_DIR, \"Directivity_Labels_only0_2dirBinary.csv\")\n",
    "\n",
    "DATA_DIR = os.getcwd()+'/Directivity/'\n",
    "DIRECTIVITY_ANNOTATION = os.path.join(DATA_DIR, \"MatrixLabelsDirectivityCategoriesBalanced.csv\")\n",
    "\n",
    "df = pd.read_csv(DIRECTIVITY_ANNOTATION)\n",
    "df.head(5)"
   ]
  },
  {
   "cell_type": "code",
   "execution_count": 7,
   "id": "98c0ecf5-beaf-4cc2-b6e1-e3982c30e8c3",
   "metadata": {},
   "outputs": [],
   "source": [
    "TARGET_SAMPLE_RATE = 44100\n",
    "NUM_SAMPLES = 200000\n",
    "DEVICE = 'cuda'\n",
    "\n",
    "mel_spec = MelSpectrogram(\n",
    "        sample_rate = TARGET_SAMPLE_RATE,\n",
    "        n_fft = 1024,\n",
    "        hop_length = 512,\n",
    "        n_mels = 64\n",
    "    ).to(DEVICE)"
   ]
  },
  {
   "cell_type": "code",
   "execution_count": 8,
   "id": "b1a41ac1-b515-4969-822c-66b7b706acf4",
   "metadata": {},
   "outputs": [],
   "source": [
    "dir = DirectivityDataset(DIRECTIVITY_ANNOTATION, DATA_DIR, mel_spec, TARGET_SAMPLE_RATE, NUM_SAMPLES, DEVICE)\n",
    "train_len = int(0.8*len(dir))\n",
    "val_len = int(0.2*len(dir))\n",
    "\n",
    "val_dataset = Subset(dir, range(train_len, train_len+val_len))\n",
    "\n",
    "loader = DataLoader(val_dataset, batch_size=1)"
   ]
  },
  {
   "cell_type": "code",
   "execution_count": 9,
   "id": "77fdd6ec-e563-4ba7-bb6b-06b41668a166",
   "metadata": {},
   "outputs": [
    {
     "data": {
      "text/plain": [
       "torch.Size([64, 391])"
      ]
     },
     "execution_count": 9,
     "metadata": {},
     "output_type": "execute_result"
    }
   ],
   "source": [
    "data, label = next(iter(loader))\n",
    "input_dims = data[0][0].shape\n",
    "input_dims"
   ]
  },
  {
   "cell_type": "code",
   "execution_count": 10,
   "id": "6cd27561-006c-4102-bf68-245b80beb770",
   "metadata": {},
   "outputs": [
    {
     "data": {
      "text/plain": [
       "<All keys matched successfully>"
      ]
     },
     "execution_count": 10,
     "metadata": {},
     "output_type": "execute_result"
    }
   ],
   "source": [
    "cnn_model = CNN_2channel(W = input_dims[0], H=input_dims[1]).to(DEVICE)\n",
    "state_dict = torch.load('./Weights/cnn-melmodel.pth', weights_only=False)\n",
    "cnn_model.load_state_dict(state_dict)"
   ]
  },
  {
   "cell_type": "code",
   "execution_count": 11,
   "id": "72bfb2de-64dc-4311-8a3d-cace67cecb66",
   "metadata": {},
   "outputs": [
    {
     "data": {
      "text/plain": [
       "CNN_2channel(\n",
       "  (conv1): Sequential(\n",
       "    (0): Conv2d(2, 64, kernel_size=(3, 3), stride=(1, 1))\n",
       "    (1): ReLU()\n",
       "    (2): MaxPool2d(kernel_size=2, stride=2, padding=0, dilation=1, ceil_mode=False)\n",
       "  )\n",
       "  (conv2): Sequential(\n",
       "    (0): Conv2d(64, 128, kernel_size=(3, 3), stride=(1, 1))\n",
       "    (1): ReLU()\n",
       "    (2): MaxPool2d(kernel_size=2, stride=2, padding=0, dilation=1, ceil_mode=False)\n",
       "  )\n",
       "  (conv3): Sequential(\n",
       "    (0): Conv2d(128, 256, kernel_size=(3, 3), stride=(1, 1))\n",
       "    (1): ReLU()\n",
       "    (2): MaxPool2d(kernel_size=2, stride=2, padding=0, dilation=1, ceil_mode=False)\n",
       "  )\n",
       "  (conv4): Sequential(\n",
       "    (0): Conv2d(256, 512, kernel_size=(3, 3), stride=(1, 1))\n",
       "    (1): ReLU()\n",
       "    (2): MaxPool2d(kernel_size=2, stride=2, padding=0, dilation=1, ceil_mode=False)\n",
       "  )\n",
       "  (flatten): Flatten(start_dim=1, end_dim=-1)\n",
       "  (dense1): Sequential(\n",
       "    (0): Linear(in_features=22528, out_features=64, bias=True)\n",
       "    (1): ReLU()\n",
       "  )\n",
       "  (dense2): Sequential(\n",
       "    (0): Linear(in_features=64, out_features=32, bias=True)\n",
       "    (1): ReLU()\n",
       "  )\n",
       "  (dense3): Linear(in_features=32, out_features=8, bias=True)\n",
       ")"
      ]
     },
     "execution_count": 11,
     "metadata": {},
     "output_type": "execute_result"
    }
   ],
   "source": [
    "cnn_model.eval()"
   ]
  },
  {
   "cell_type": "code",
   "execution_count": null,
   "id": "b53ebada-7bcc-49d1-8cfe-59db63c96174",
   "metadata": {},
   "outputs": [],
   "source": [
    "pred = cnn_model(data)\n",
    "_, predicted = torch.max(pred, 1)\n",
    "predicted, label"
   ]
  },
  {
   "cell_type": "code",
   "execution_count": null,
   "id": "db0db083-883c-4f32-ad04-df352d753653",
   "metadata": {},
   "outputs": [],
   "source": [
    "preds = []\n",
    "labels = []\n",
    "for input_data, target in loader:\n",
    "    prediction = cnn_model(input_data)\n",
    "    _, predicted = torch.max(prediction, 1)\n",
    "    preds.append(predicted.detach().cpu().numpy())\n",
    "    label = torch.argmax(target, dim=1)\n",
    "    labels.append(label.detach().cpu().numpy())\n"
   ]
  },
  {
   "cell_type": "code",
   "execution_count": 19,
   "id": "886e345a-ae37-4161-a13c-2ea5755c0aa9",
   "metadata": {},
   "outputs": [
    {
     "name": "stdout",
     "output_type": "stream",
     "text": [
      "              precision    recall  f1-score   support\n",
      "\n",
      "           0       1.00      0.95      0.97        41\n",
      "           1       0.95      1.00      0.97        35\n",
      "           2       1.00      1.00      1.00        42\n",
      "           3       1.00      1.00      1.00        42\n",
      "\n",
      "    accuracy                           0.99       160\n",
      "   macro avg       0.99      0.99      0.99       160\n",
      "weighted avg       0.99      0.99      0.99       160\n",
      "\n"
     ]
    }
   ],
   "source": [
    "from sklearn.metrics import classification_report, confusion_matrix\n",
    "print(classification_report(labels, preds))"
   ]
  },
  {
   "cell_type": "code",
   "execution_count": 18,
   "id": "f9eb408c-a0f4-4bd3-9ba4-96f44e3592e7",
   "metadata": {},
   "outputs": [
    {
     "data": {
      "text/plain": [
       "array([[39,  2,  0,  0],\n",
       "       [ 0, 35,  0,  0],\n",
       "       [ 0,  0, 42,  0],\n",
       "       [ 0,  0,  0, 42]])"
      ]
     },
     "execution_count": 18,
     "metadata": {},
     "output_type": "execute_result"
    }
   ],
   "source": [
    "confusion_matrix(labels, preds)"
   ]
  },
  {
   "cell_type": "code",
   "execution_count": null,
   "id": "c21adf04-cf18-41b3-87d8-9ae19f274510",
   "metadata": {},
   "outputs": [],
   "source": []
  }
 ],
 "metadata": {
  "kernelspec": {
   "display_name": "Python 3 (ipykernel)",
   "language": "python",
   "name": "python3"
  },
  "language_info": {
   "codemirror_mode": {
    "name": "ipython",
    "version": 3
   },
   "file_extension": ".py",
   "mimetype": "text/x-python",
   "name": "python",
   "nbconvert_exporter": "python",
   "pygments_lexer": "ipython3",
   "version": "3.12.2"
  }
 },
 "nbformat": 4,
 "nbformat_minor": 5
}
